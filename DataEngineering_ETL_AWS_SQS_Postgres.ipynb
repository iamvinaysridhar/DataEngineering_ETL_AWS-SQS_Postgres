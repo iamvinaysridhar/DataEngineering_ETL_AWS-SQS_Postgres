{
  "nbformat": 4,
  "nbformat_minor": 0,
  "metadata": {
    "colab": {
      "provenance": []
    },
    "kernelspec": {
      "name": "python3",
      "display_name": "Python 3"
    },
    "language_info": {
      "name": "python"
    }
  },
  "cells": [
    {
      "cell_type": "code",
      "source": [
        "pip install boto3"
      ],
      "metadata": {
        "id": "gDiqkicP7cjX"
      },
      "execution_count": null,
      "outputs": []
    },
    {
      "cell_type": "code",
      "execution_count": null,
      "metadata": {
        "id": "a7xyUv5I58bt"
      },
      "outputs": [],
      "source": [
        "# Importing all the required libraries\n",
        "import boto3\n",
        "import hashlib\n",
        "import json\n",
        "import psycopg2\n",
        "from datetime import datetime\n",
        "\n",
        "# SQS and Postgres connections\n",
        "SQS_QUEUE_URL = 'http://localhost:4566/000000000000/login-queue'\n",
        "DB_NAME = \"postgres\"\n",
        "DB_USER = \"postgres\"\n",
        "DB_PASSWORD = \"postgres\"\n",
        "DB_HOST = \"localhost\"\n",
        "DB_PORT = \"5432\"\n",
        "\n",
        "def hash_data(data):\n",
        "    \"\"\"\n",
        "    We need to perform hashing to hide personal identifiable information (PII). The fields `device_id` and `ip` should be masked\n",
        "    Hashes the input data using SHA-256 algorithm\n",
        "    \"\"\"\n",
        "    return hashlib.sha256(data.encode('utf-8')).hexdigest()\n",
        "\n",
        "def process_sqs_message(message, cursor):\n",
        "    \"\"\"\n",
        "    Processes SQS message and inserts the data into the PostgreSQL database.\n",
        "    \"\"\"\n",
        "    try:\n",
        "        data = json.loads(message['Body'])\n",
        "        user_id = data['user_id']\n",
        "        device_type = data['device_type']\n",
        "        hashed_ip = hash_data(data['ip'])\n",
        "        hashed_device_id = hash_data(data['device_id'])\n",
        "        locale = data['locale']\n",
        "        app_version = int(data['app_version'])\n",
        "        create_date = datetime.strptime(data['create_date'], '%Y-%m-%d').date()\n",
        "\n",
        "        insert_query = \"\"\"\n",
        "            INSERT INTO user_logins (user_id, device_type, hashed_ip, hashed_device_id, locale, app_version, create_date)\n",
        "            VALUES (%s, %s, %s, %s, %s, %s, %s)\n",
        "        \"\"\"\n",
        "        cursor.execute(insert_query, (user_id, device_type, hashed_ip, hashed_device_id, locale, app_version, create_date))\n",
        "    except (json.JSONDecodeError, KeyError, ValueError) as e:\n",
        "        print(f\"Error processing message: {message}. Error: {e}\")\n",
        "\n",
        "def main():\n",
        "    \"\"\"\n",
        "    Main function to read messages from SQS and insert them into the PostgreSQL database.\n",
        "    \"\"\"\n",
        "    conn = None\n",
        "    cursor = None\n",
        "    try:\n",
        "        # Connect to the PostgreSQL database\n",
        "        conn = psycopg2.connect(\n",
        "            dbname = DB_NAME,\n",
        "            user = DB_USER,\n",
        "            password = DB_PASSWORD,\n",
        "            host = DB_HOST,\n",
        "            port = DB_PORT\n",
        "        )\n",
        "        cursor = conn.cursor()\n",
        "\n",
        "        # Connect to SQS\n",
        "        sqs = boto3.client('sqs', endpoint_url = 'http://localhost:4566')\n",
        "        response = sqs.receive_message(QueueUrl = SQS_QUEUE_URL, MaxNumberOfMessages = 10)\n",
        "\n",
        "        # Process each message\n",
        "        if 'Messages' in response:\n",
        "            for message in response['Messages']:\n",
        "                process_sqs_message(message, cursor)\n",
        "            conn.commit()\n",
        "\n",
        "    except psycopg2.Error as db_err:\n",
        "        print(f\"Database error: {db_err}\")\n",
        "    except Exception as e:\n",
        "        print(f\"An error occurred: {e}\")\n",
        "    finally:\n",
        "        if cursor is not None:\n",
        "            cursor.close()\n",
        "        if conn is not None:\n",
        "            conn.close()\n",
        "\n",
        "if __name__ == \"__main__\":\n",
        "    main()"
      ]
    }
  ]
}